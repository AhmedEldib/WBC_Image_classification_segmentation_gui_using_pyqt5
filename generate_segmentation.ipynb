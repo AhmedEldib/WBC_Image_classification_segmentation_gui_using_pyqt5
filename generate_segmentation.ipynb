{
 "metadata": {
  "language_info": {
   "codemirror_mode": {
    "name": "ipython",
    "version": 3
   },
   "file_extension": ".py",
   "mimetype": "text/x-python",
   "name": "python",
   "nbconvert_exporter": "python",
   "pygments_lexer": "ipython3",
   "version": "3.7.4"
  },
  "orig_nbformat": 2,
  "kernelspec": {
   "name": "python374jvsc74a57bd0a1b4f4b5b59d091f24ed8aad52614a3516ad0de64d607555a43675d2b4fd5eeb",
   "display_name": "Python 3.7.4 64-bit ('base': conda)"
  }
 },
 "nbformat": 4,
 "nbformat_minor": 2,
 "cells": [
  {
   "cell_type": "code",
   "execution_count": 12,
   "metadata": {},
   "outputs": [],
   "source": [
    "import numpy as np \n",
    "import pandas as pd\n",
    "import pickle \n",
    "\n",
    "from skimage import io \n",
    "from skimage.transform import resize\n",
    "from skimage.color import rgb2gray\n",
    "\n",
    "from sklearn.model_selection import GridSearchCV\n",
    "from sklearn.model_selection import train_test_split \n",
    "from sklearn.metrics import classification_report, confusion_matrix\n",
    "from sklearn.preprocessing import LabelBinarizer\n",
    "\n",
    "import matplotlib.pyplot as plt\n",
    "import os\n",
    "from network import ShallowNeuralNetwork\n",
    "from SVM import svm_class"
   ]
  },
  {
   "cell_type": "code",
   "execution_count": 13,
   "metadata": {},
   "outputs": [],
   "source": [
    "with open('snn.pickle', 'rb') as f:     \n",
    "        snn = pickle.load(f)"
   ]
  },
  {
   "cell_type": "code",
   "execution_count": 3,
   "metadata": {},
   "outputs": [],
   "source": [
    "x = []\n",
    "num = 1\n",
    "\n",
    "path = '/dataset/Dataset 1'\n",
    "filepaths = [os.path.join(r,file) for r,d,f in os.walk(os.getcwd() + path) for file in f]\n",
    "filepaths = [x for x in filepaths if x.endswith(\".bmp\")]\n",
    "\n",
    "for filename in filepaths:\n",
    "    im = io.imread(filename)\n",
    "    l, w = im.shape[0:2]\n",
    "     \n",
    "    pixel_values = []\n",
    "\n",
    "    pixel_values = np.float32(im)/255\n",
    "\n",
    "    X_test = np.array(pixel_values)\n",
    "\n",
    "    test = pd.DataFrame(columns = [\"r\", \"g\", \"b\"])\n",
    "    test = test.append(pd.DataFrame(X_test.reshape(-1, 3), columns = [\"r\", \"g\", \"b\"]))\n",
    "\n",
    "    y_pred = []\n",
    "\n",
    "    for i in test.values:\n",
    "        y_pred.append(snn.predict(i).argmax())\n",
    "\n",
    "    y_pred = np.array(y_pred)\n",
    "\n",
    "    np.unique(y_pred, return_counts=True)\n",
    "\n",
    "    cluster1_mean = np.mean(test[y_pred == 0], axis=0)\n",
    "    cluster2_mean = np.mean(test[y_pred == 1], axis=0)\n",
    "    cluster3_mean = np.mean(test[y_pred == 2], axis=0)\n",
    "\n",
    "    y_pred.reshape(-1, 1)\n",
    "\n",
    "    y_mean = []\n",
    "    for i in y_pred:\n",
    "        if i == 0:\n",
    "            y_mean.append(cluster1_mean)\n",
    "\n",
    "        elif i == 1:\n",
    "            y_mean.append(cluster2_mean)\n",
    "\n",
    "        elif i == 2:\n",
    "            y_mean.append(cluster3_mean)\n",
    "    y_mean = np.array(y_mean)\n",
    "\n",
    "\n",
    "    np.unique(y_pred, return_counts=True)\n",
    "\n",
    "    y_mean = y_mean.reshape(l, w, 3)\n",
    "\n",
    "    y_mean = np.array(np.round(y_mean * 255)).astype(np.uint8)\n",
    "\n",
    "    out_path = \"/outputs_snn/snn\"\n",
    "    io.imsave(os.getcwd() + out_path + str(num) +\".bmp\", y_mean)\n",
    "\n",
    "    num += 1"
   ]
  },
  {
   "cell_type": "code",
   "execution_count": 14,
   "metadata": {},
   "outputs": [],
   "source": [
    "with open('clf.pickle', 'rb') as f:     \n",
    "        clf = pickle.load(f)"
   ]
  },
  {
   "cell_type": "code",
   "execution_count": 16,
   "metadata": {},
   "outputs": [
    {
     "output_type": "stream",
     "name": "stderr",
     "text": [
      "ipykernel_launcher:46: UserWarning: e:\\MOI FILES\\Year 3\\Term 2\\Medical Pettern Recognition\\assignments\\midterm\\midterm/outputs_svm/svm115.bmp is a low contrast image\n"
     ]
    }
   ],
   "source": [
    "x = []\n",
    "num = 1\n",
    "\n",
    "path = '/dataset/Dataset 1'\n",
    "filepaths = [os.path.join(r,file) for r,d,f in os.walk(os.getcwd() + path) for file in f]\n",
    "filepaths = [x for x in filepaths if x.endswith(\".bmp\")]\n",
    "\n",
    "for filename in filepaths:\n",
    "    im = io.imread(filename)\n",
    "    l, w = im.shape[0:2]\n",
    "     \n",
    "    pixel_values = []\n",
    "\n",
    "    pixel_values = np.float32(im)/255\n",
    "\n",
    "    X_test = np.array(pixel_values)\n",
    "\n",
    "    test = pd.DataFrame(columns = [\"r\", \"g\", \"b\"])\n",
    "    test = test.append(pd.DataFrame(X_test.reshape(-1, 3), columns = [\"r\", \"g\", \"b\"]))\n",
    "\n",
    "    y_pred = clf.predict(test.values)\n",
    "\n",
    "    cluster1_mean = np.mean(test[y_pred == 1], axis=0)\n",
    "    cluster2_mean = np.mean(test[y_pred == 2], axis=0)\n",
    "    cluster3_mean = np.mean(test[y_pred == 3], axis=0)\n",
    "\n",
    "    y_pred.reshape(-1, 1)\n",
    "\n",
    "    y_mean = []\n",
    "    for i in y_pred:\n",
    "        if i == 1:\n",
    "            y_mean.append(cluster1_mean)\n",
    "\n",
    "        elif i == 2:\n",
    "            y_mean.append(cluster2_mean)\n",
    "\n",
    "        elif i == 3:\n",
    "            y_mean.append(cluster3_mean)\n",
    "    y_mean = np.array(y_mean)\n",
    "\n",
    "    y_mean = y_mean.reshape(l, w, 3)\n",
    "\n",
    "    y_mean = np.array(np.round(y_mean * 255)).astype(np.uint8)\n",
    "\n",
    "    out_path = \"/outputs_svm/svm\"\n",
    "    io.imsave(os.getcwd() + out_path + str(num) +\".bmp\", y_mean)\n",
    "\n",
    "    num += 1"
   ]
  },
  {
   "cell_type": "code",
   "execution_count": null,
   "metadata": {},
   "outputs": [],
   "source": []
  }
 ]
}